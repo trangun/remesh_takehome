{
 "cells": [
  {
   "cell_type": "code",
   "execution_count": 1,
   "metadata": {},
   "outputs": [],
   "source": [
    "from jupyterthemes import jtplot\n",
    "jtplot.style(theme='grade3', context='notebook', ticks=True, grid=False)"
   ]
  },
  {
   "cell_type": "code",
   "execution_count": 2,
   "metadata": {},
   "outputs": [
    {
     "name": "stderr",
     "output_type": "stream",
     "text": [
      "[nltk_data] Downloading package wordnet to\n",
      "[nltk_data]     C:\\Users\\uyent\\AppData\\Roaming\\nltk_data...\n",
      "[nltk_data]   Package wordnet is already up-to-date!\n",
      "[nltk_data] Downloading package stopwords to\n",
      "[nltk_data]     C:\\Users\\uyent\\AppData\\Roaming\\nltk_data...\n",
      "[nltk_data]   Package stopwords is already up-to-date!\n"
     ]
    }
   ],
   "source": [
    "import re\n",
    "import numpy as np\n",
    "import pandas as pd\n",
    "from pprint import pprint\n",
    "\n",
    "import gensim\n",
    "from gensim.utils import simple_preprocess\n",
    "from gensim.parsing.preprocessing import STOPWORDS\n",
    "from gensim.models import CoherenceModel\n",
    "import gensim.corpora as corpora\n",
    "from gensim.models import Word2Vec\n",
    "\n",
    "# spacy for lemmatization\n",
    "import spacy\n",
    "\n",
    "# Plotting tools\n",
    "import pyLDAvis\n",
    "import pyLDAvis.gensim  # don't skip this\n",
    "import matplotlib.pyplot as plt\n",
    "%matplotlib inline\n",
    "\n",
    "\n",
    "from nltk.stem import WordNetLemmatizer, SnowballStemmer\n",
    "from nltk.stem.porter import *\n",
    "import numpy as np\n",
    "np.random.seed(2021)\n",
    "import nltk\n",
    "nltk.download('wordnet')\n",
    "nltk.download('stopwords')\n",
    "\n",
    "import warnings\n",
    "warnings.filterwarnings(\"ignore\",category=DeprecationWarning)\n",
    "\n",
    "url = './example-question-dataset-master/'"
   ]
  },
  {
   "cell_type": "code",
   "execution_count": 3,
   "metadata": {},
   "outputs": [
    {
     "data": {
      "text/html": [
       "<div>\n",
       "<style scoped>\n",
       "    .dataframe tbody tr th:only-of-type {\n",
       "        vertical-align: middle;\n",
       "    }\n",
       "\n",
       "    .dataframe tbody tr th {\n",
       "        vertical-align: top;\n",
       "    }\n",
       "\n",
       "    .dataframe thead th {\n",
       "        text-align: right;\n",
       "    }\n",
       "</style>\n",
       "<table border=\"1\" class=\"dataframe\">\n",
       "  <thead>\n",
       "    <tr style=\"text-align: right;\">\n",
       "      <th></th>\n",
       "      <th>id</th>\n",
       "      <th>respondent_id</th>\n",
       "      <th>text</th>\n",
       "    </tr>\n",
       "  </thead>\n",
       "  <tbody>\n",
       "    <tr>\n",
       "      <th>0</th>\n",
       "      <td>0</td>\n",
       "      <td>17</td>\n",
       "      <td>It's easy to use and very heavily adopted by o...</td>\n",
       "    </tr>\n",
       "    <tr>\n",
       "      <th>1</th>\n",
       "      <td>1</td>\n",
       "      <td>38</td>\n",
       "      <td>Easy access is just about the only thing.</td>\n",
       "    </tr>\n",
       "    <tr>\n",
       "      <th>2</th>\n",
       "      <td>2</td>\n",
       "      <td>23</td>\n",
       "      <td>youtube makes it really easy to see what kind ...</td>\n",
       "    </tr>\n",
       "    <tr>\n",
       "      <th>3</th>\n",
       "      <td>3</td>\n",
       "      <td>5</td>\n",
       "      <td>Being able to mute/block people. It helps keep...</td>\n",
       "    </tr>\n",
       "    <tr>\n",
       "      <th>4</th>\n",
       "      <td>4</td>\n",
       "      <td>25</td>\n",
       "      <td>Being able to share content</td>\n",
       "    </tr>\n",
       "  </tbody>\n",
       "</table>\n",
       "</div>"
      ],
      "text/plain": [
       "   id  respondent_id                                               text\n",
       "0   0             17  It's easy to use and very heavily adopted by o...\n",
       "1   1             38          Easy access is just about the only thing.\n",
       "2   2             23  youtube makes it really easy to see what kind ...\n",
       "3   3              5  Being able to mute/block people. It helps keep...\n",
       "4   4             25                        Being able to share content"
      ]
     },
     "execution_count": 3,
     "metadata": {},
     "output_type": "execute_result"
    }
   ],
   "source": [
    "thoughts = pd.read_csv(url+ 'thoughts.csv')\n",
    "thoughts.head()"
   ]
  },
  {
   "cell_type": "code",
   "execution_count": 4,
   "metadata": {},
   "outputs": [
    {
     "data": {
      "text/html": [
       "<div>\n",
       "<style scoped>\n",
       "    .dataframe tbody tr th:only-of-type {\n",
       "        vertical-align: middle;\n",
       "    }\n",
       "\n",
       "    .dataframe tbody tr th {\n",
       "        vertical-align: top;\n",
       "    }\n",
       "\n",
       "    .dataframe thead th {\n",
       "        text-align: right;\n",
       "    }\n",
       "</style>\n",
       "<table border=\"1\" class=\"dataframe\">\n",
       "  <thead>\n",
       "    <tr style=\"text-align: right;\">\n",
       "      <th></th>\n",
       "      <th>respondent_id</th>\n",
       "      <th>thought_id</th>\n",
       "      <th>label</th>\n",
       "    </tr>\n",
       "  </thead>\n",
       "  <tbody>\n",
       "    <tr>\n",
       "      <th>0</th>\n",
       "      <td>32</td>\n",
       "      <td>7</td>\n",
       "      <td>Disagree</td>\n",
       "    </tr>\n",
       "    <tr>\n",
       "      <th>1</th>\n",
       "      <td>37</td>\n",
       "      <td>3</td>\n",
       "      <td>Agree</td>\n",
       "    </tr>\n",
       "    <tr>\n",
       "      <th>2</th>\n",
       "      <td>37</td>\n",
       "      <td>1</td>\n",
       "      <td>Disagree</td>\n",
       "    </tr>\n",
       "    <tr>\n",
       "      <th>3</th>\n",
       "      <td>37</td>\n",
       "      <td>14</td>\n",
       "      <td>Disagree</td>\n",
       "    </tr>\n",
       "    <tr>\n",
       "      <th>4</th>\n",
       "      <td>37</td>\n",
       "      <td>19</td>\n",
       "      <td>Disagree</td>\n",
       "    </tr>\n",
       "  </tbody>\n",
       "</table>\n",
       "</div>"
      ],
      "text/plain": [
       "   respondent_id  thought_id     label\n",
       "0             32           7  Disagree\n",
       "1             37           3     Agree\n",
       "2             37           1  Disagree\n",
       "3             37          14  Disagree\n",
       "4             37          19  Disagree"
      ]
     },
     "execution_count": 4,
     "metadata": {},
     "output_type": "execute_result"
    }
   ],
   "source": [
    "agreements = pd.read_csv(url + 'agreements.csv')\n",
    "agreements.head()"
   ]
  },
  {
   "cell_type": "code",
   "execution_count": 5,
   "metadata": {},
   "outputs": [
    {
     "data": {
      "text/html": [
       "<div>\n",
       "<style scoped>\n",
       "    .dataframe tbody tr th:only-of-type {\n",
       "        vertical-align: middle;\n",
       "    }\n",
       "\n",
       "    .dataframe tbody tr th {\n",
       "        vertical-align: top;\n",
       "    }\n",
       "\n",
       "    .dataframe thead th {\n",
       "        text-align: right;\n",
       "    }\n",
       "</style>\n",
       "<table border=\"1\" class=\"dataframe\">\n",
       "  <thead>\n",
       "    <tr style=\"text-align: right;\">\n",
       "      <th></th>\n",
       "      <th>respondent_id</th>\n",
       "      <th>thought_a_id</th>\n",
       "      <th>thought_b_id</th>\n",
       "      <th>label</th>\n",
       "    </tr>\n",
       "  </thead>\n",
       "  <tbody>\n",
       "    <tr>\n",
       "      <th>0</th>\n",
       "      <td>32</td>\n",
       "      <td>20</td>\n",
       "      <td>14</td>\n",
       "      <td>A</td>\n",
       "    </tr>\n",
       "    <tr>\n",
       "      <th>1</th>\n",
       "      <td>29</td>\n",
       "      <td>19</td>\n",
       "      <td>21</td>\n",
       "      <td>A</td>\n",
       "    </tr>\n",
       "    <tr>\n",
       "      <th>2</th>\n",
       "      <td>37</td>\n",
       "      <td>6</td>\n",
       "      <td>19</td>\n",
       "      <td>A</td>\n",
       "    </tr>\n",
       "    <tr>\n",
       "      <th>3</th>\n",
       "      <td>32</td>\n",
       "      <td>35</td>\n",
       "      <td>5</td>\n",
       "      <td>A</td>\n",
       "    </tr>\n",
       "    <tr>\n",
       "      <th>4</th>\n",
       "      <td>37</td>\n",
       "      <td>8</td>\n",
       "      <td>6</td>\n",
       "      <td>B</td>\n",
       "    </tr>\n",
       "  </tbody>\n",
       "</table>\n",
       "</div>"
      ],
      "text/plain": [
       "   respondent_id  thought_a_id  thought_b_id label\n",
       "0             32            20            14     A\n",
       "1             29            19            21     A\n",
       "2             37             6            19     A\n",
       "3             32            35             5     A\n",
       "4             37             8             6     B"
      ]
     },
     "execution_count": 5,
     "metadata": {},
     "output_type": "execute_result"
    }
   ],
   "source": [
    "binary_choices = pd.read_csv(url + 'binary_choices.csv')\n",
    "binary_choices.head()"
   ]
  },
  {
   "cell_type": "markdown",
   "metadata": {},
   "source": [
    "# Topic Modeling"
   ]
  },
  {
   "cell_type": "code",
   "execution_count": 49,
   "metadata": {},
   "outputs": [],
   "source": [
    "data = thoughts.text.values.tolist()\n",
    "\n",
    "\n",
    "# Remove Emails\n",
    "data = [re.sub('\\S*@\\S*\\s?', '', sent) for sent in data]\n",
    "\n",
    "# Remove new line characters\n",
    "data = [re.sub('\\s+', ' ', sent) for sent in data]\n",
    "\n",
    "# Remove distracting single quotes\n",
    "data = [re.sub(\"\\'\", \"\", sent) for sent in data]"
   ]
  },
  {
   "cell_type": "code",
   "execution_count": null,
   "metadata": {},
   "outputs": [],
   "source": []
  },
  {
   "cell_type": "markdown",
   "metadata": {},
   "source": [
    "## Tokenize words and Clean-up text"
   ]
  },
  {
   "cell_type": "code",
   "execution_count": 51,
   "metadata": {},
   "outputs": [
    {
     "name": "stdout",
     "output_type": "stream",
     "text": [
      "[['ability', 'to', 'see', 'updates', 'in', 'real', 'time', 'ability', 'to', 'keep', 'up', 'with', 'friends', 'family']]\n"
     ]
    }
   ],
   "source": [
    "def sent_to_words(sentences):\n",
    "    for sentence in sentences:\n",
    "        yield(gensim.utils.simple_preprocess(str(sentence), deacc=True))  # deacc=True removes punctuations\n",
    "\n",
    "data_words = list(sent_to_words(data))\n",
    "\n",
    "print(data_words[26:27])"
   ]
  },
  {
   "cell_type": "markdown",
   "metadata": {},
   "source": [
    "## Creating Bigram (and Trigram Models)"
   ]
  },
  {
   "cell_type": "code",
   "execution_count": 8,
   "metadata": {},
   "outputs": [
    {
     "name": "stdout",
     "output_type": "stream",
     "text": [
      "['it', 'easy', 'to', 'use', 'and', 'very', 'heavily', 'adopted', 'by', 'other', 'people']\n"
     ]
    }
   ],
   "source": [
    "# Build the bigram and trigram models\n",
    "bigram = gensim.models.Phrases(data_words, min_count=4, threshold=7) # higher threshold fewer phrases. set this low since out samplesize is snall\n",
    "# trigram = gensim.models.Phrases(bigram[data_words], threshold=6)  \n",
    "\n",
    "# Faster way to get a sentence clubbed as a trigram/bigram\n",
    "bigram_mod = gensim.models.phrases.Phraser(bigram)\n",
    "# trigram_mod = gensim.models.phrases.Phraser(trigram)\n",
    "\n",
    "# See trigram example\n",
    "print(bigram_mod[data_words[0]])"
   ]
  },
  {
   "cell_type": "markdown",
   "metadata": {},
   "source": [
    "## Remove Stopwords, make Bigrams and Lemmatize"
   ]
  },
  {
   "cell_type": "code",
   "execution_count": 9,
   "metadata": {},
   "outputs": [],
   "source": [
    "# NLTK Stop words\n",
    "from nltk.corpus import stopwords\n",
    "stop_words = stopwords.words('english')\n",
    "stop_words.extend(['feature'])"
   ]
  },
  {
   "cell_type": "code",
   "execution_count": 10,
   "metadata": {},
   "outputs": [],
   "source": [
    "def remove_stopwords(texts):\n",
    "    return [[word for word in simple_preprocess(str(doc)) if word not in stop_words] for doc in texts]\n",
    "\n",
    "def make_bigrams(texts):\n",
    "    return [bigram_mod[doc] for doc in texts]\n",
    "\n",
    "# def make_trigrams(texts):\n",
    "#     return [trigram_mod[bigram_mod[doc]] for doc in texts]\n",
    "\n",
    "def lemmatization(texts, allowed_postags=['NOUN', 'ADJ', 'VERB', 'ADV']):\n",
    "    \"\"\"https://spacy.io/api/annotation\"\"\"\n",
    "    texts_out = []\n",
    "    for sent in texts:\n",
    "        doc = nlp(\" \".join(sent)) \n",
    "        texts_out.append([token.lemma_ for token in doc if token.pos_ in allowed_postags])\n",
    "    return texts_out"
   ]
  },
  {
   "cell_type": "code",
   "execution_count": 11,
   "metadata": {},
   "outputs": [
    {
     "name": "stdout",
     "output_type": "stream",
     "text": [
      "[['easy', 'use', 'heavily', 'adopt', 'people'], ['easy', 'access', 'thing'], ['make', 'really', 'easy', 'see', 'kind', 'audience', 'video', 'people', 'access'], ['able', 'mute', 'block', 'people', 'help', 'keep', 'feed', 'clean'], ['able', 'share', 'content'], ['ease', 'use', 'popularity', 'much'], ['block'], ['useless'], ['love', 'see', 'people', 'picture', 'able', 'communicate', 'easily'], ['ability', 'set', 'profile', 'private'], ['easy', 'voice', 'video', 'easy', 'payment', 'option', 'send', 'receive', 'money', 'lot', 'control', 'control'], ['honest', 'stand', 'adequate'], ['able', 'unfollow', 'idiot', 'repeatedly', 'think', 'send'], ['mute', 'people', 'day', 'facebook'], []]\n"
     ]
    }
   ],
   "source": [
    "# Remove Stop Words\n",
    "data_words_nostops = remove_stopwords(data_words)\n",
    "\n",
    "# Form Bigrams\n",
    "data_words_bigrams = make_bigrams(data_words_nostops)\n",
    "\n",
    "# Initialize spacy 'en_core_web_sm' model, keeping only tagger component (for efficiency)\n",
    "# python3 -m spacy download en_core_web_sm\n",
    "nlp = spacy.load('en_core_web_sm', disable=['parser', 'ner'])\n",
    "\n",
    "# Do lemmatization keeping only noun, adj, vb, adv\n",
    "data_lemmatized = lemmatization(data_words_bigrams, allowed_postags=['NOUN', 'ADJ', 'VERB', 'ADV'])\n",
    "\n",
    "print(data_lemmatized[:15])"
   ]
  },
  {
   "cell_type": "markdown",
   "metadata": {},
   "source": [
    "## Create the Dictionary and Corpus needed for Topic Modeling"
   ]
  },
  {
   "cell_type": "code",
   "execution_count": 12,
   "metadata": {},
   "outputs": [
    {
     "name": "stdout",
     "output_type": "stream",
     "text": [
      "[[(0, 1), (1, 1), (2, 1), (3, 1), (4, 1)]]\n"
     ]
    }
   ],
   "source": [
    "# Create Dictionary\n",
    "id2word = corpora.Dictionary(data_lemmatized)\n",
    "\n",
    "# Create Corpus\n",
    "texts = data_lemmatized\n",
    "\n",
    "# Term Document Frequency\n",
    "corpus = [id2word.doc2bow(text) for text in texts]\n",
    "\n",
    "# View\n",
    "print(corpus[:1])\n",
    "# id2word[0]"
   ]
  },
  {
   "cell_type": "markdown",
   "metadata": {},
   "source": [
    "# LDA MODEL"
   ]
  },
  {
   "cell_type": "code",
   "execution_count": 13,
   "metadata": {},
   "outputs": [],
   "source": [
    "lda_model = gensim.models.ldamodel.LdaModel(corpus=corpus,\n",
    "                                           id2word=id2word,\n",
    "                                           num_topics=4, \n",
    "                                           random_state=64,\n",
    "                                           update_every=1,\n",
    "                                           chunksize=5,\n",
    "                                           passes=10,\n",
    "                                           alpha='auto',\n",
    "                                           per_word_topics=True)"
   ]
  },
  {
   "cell_type": "code",
   "execution_count": 14,
   "metadata": {},
   "outputs": [
    {
     "name": "stdout",
     "output_type": "stream",
     "text": [
      "[(0,\n",
      "  '0.098*\"want\" + 0.089*\"option\" + 0.088*\"love\" + 0.086*\"youtube\" + '\n",
      "  '0.086*\"watch\" + 0.086*\"many\" + 0.030*\"ability\" + 0.028*\"know\" + '\n",
      "  '0.016*\"enjoy\" + 0.014*\"time\"'),\n",
      " (1,\n",
      "  '0.076*\"post\" + 0.055*\"easy\" + 0.049*\"people\" + 0.049*\"see\" + 0.031*\"video\" '\n",
      "  '+ 0.027*\"recent\" + 0.027*\"hate\" + 0.027*\"default\" + 0.022*\"follow\" + '\n",
      "  '0.022*\"late\"'),\n",
      " (2,\n",
      "  '0.077*\"family\" + 0.075*\"friend\" + 0.055*\"see\" + 0.051*\"picture\" + '\n",
      "  '0.047*\"easily\" + 0.036*\"live\" + 0.035*\"content\" + 0.031*\"post\" + '\n",
      "  '0.023*\"share\" + 0.019*\"downvote\"'),\n",
      " (3,\n",
      "  '0.065*\"keep\" + 0.056*\"people\" + 0.037*\"weird\" + 0.030*\"contact\" + '\n",
      "  '0.029*\"use\" + 0.028*\"new\" + 0.027*\"time\" + 0.024*\"touch\" + 0.020*\"update\" + '\n",
      "  '0.020*\"lot\"')]\n"
     ]
    }
   ],
   "source": [
    "pprint(lda_model.print_topics())\n",
    "doc_lda = lda_model[corpus]"
   ]
  },
  {
   "cell_type": "code",
   "execution_count": 15,
   "metadata": {},
   "outputs": [
    {
     "name": "stdout",
     "output_type": "stream",
     "text": [
      "\n",
      "Perplexity:  -5.549869477879012\n",
      "\n",
      "Coherence Score:  0.4641934882889511\n"
     ]
    }
   ],
   "source": [
    "# Compute Perplexity\n",
    "print('\\nPerplexity: ', lda_model.log_perplexity(corpus))  # a measure of how good the model is. lower the better.\n",
    "\n",
    "# Compute Coherence Score\n",
    "coherence_model_lda = CoherenceModel(model=lda_model, texts=data_lemmatized, dictionary=id2word, coherence='c_v')\n",
    "coherence_lda = coherence_model_lda.get_coherence()\n",
    "print('\\nCoherence Score: ', coherence_lda)"
   ]
  },
  {
   "cell_type": "code",
   "execution_count": 16,
   "metadata": {},
   "outputs": [
    {
     "data": {
      "text/html": [
       "\n",
       "<link rel=\"stylesheet\" type=\"text/css\" href=\"https://cdn.rawgit.com/bmabey/pyLDAvis/files/ldavis.v1.0.0.css\">\n",
       "\n",
       "\n",
       "<div id=\"ldavis_el836415124447121365484459790\"></div>\n",
       "<script type=\"text/javascript\">\n",
       "\n",
       "var ldavis_el836415124447121365484459790_data = {\"mdsDat\": {\"x\": [-0.10117446525329535, -0.0637406297368949, -0.06942710192665927, 0.23434219691684954], \"y\": [0.13794608631722668, -0.15166752652755114, -0.0035346739310527227, 0.01725611414137733], \"topics\": [1, 2, 3, 4], \"cluster\": [1, 1, 1, 1], \"Freq\": [31.739082492778554, 28.652379403773708, 21.03806570464576, 18.57047239880198]}, \"tinfo\": {\"Term\": [\"want\", \"option\", \"love\", \"many\", \"youtube\", \"watch\", \"family\", \"friend\", \"post\", \"keep\", \"people\", \"easy\", \"see\", \"picture\", \"easily\", \"weird\", \"video\", \"live\", \"content\", \"ability\", \"hate\", \"default\", \"recent\", \"know\", \"contact\", \"use\", \"new\", \"follow\", \"late\", \"photo\", \"family\", \"friend\", \"picture\", \"easily\", \"content\", \"live\", \"share\", \"upvote\", \"filter\", \"downvote\", \"away\", \"close\", \"far\", \"find\", \"similar\", \"think\", \"communicate\", \"choose\", \"accept\", \"request\", \"minute\", \"list\", \"see\", \"platform\", \"well\", \"repeatedly\", \"unfollow\", \"idiot\", \"honest\", \"adequate\", \"stand\", \"post\", \"able\", \"send\", \"keep\", \"weird\", \"contact\", \"new\", \"use\", \"literature\", \"meet\", \"hobbie\", \"hobby\", \"hot\", \"interest\", \"learn\", \"sauce\", \"russian\", \"especially\", \"group\", \"large\", \"update\", \"touch\", \"other\", \"simplicity\", \"convenience\", \"connection\", \"time\", \"regularly\", \"fix\", \"bug\", \"mute\", \"people\", \"day\", \"lot\", \"able\", \"easy\", \"video\", \"default\", \"hate\", \"recent\", \"follow\", \"late\", \"photo\", \"mostly\", \"look\", \"really\", \"control\", \"none\", \"post\", \"respond\", \"view\", \"access\", \"payment\", \"voice\", \"money\", \"receive\", \"make\", \"kind\", \"audience\", \"thing\", \"send\", \"people\", \"see\", \"lot\", \"useless\", \"story\", \"use\", \"want\", \"love\", \"option\", \"youtube\", \"many\", \"watch\", \"know\", \"ability\", \"enjoy\", \"clearly\", \"ememe\", \"page\", \"suggest\", \"already\", \"come\", \"news\", \"feature\", \"run\", \"medium\", \"culture\", \"dominant\", \"end\", \"fact\", \"much\", \"story\", \"profile\", \"set\", \"private\", \"useless\", \"popularity\", \"time\"], \"Freq\": [4.0, 4.0, 4.0, 4.0, 4.0, 4.0, 6.0, 5.0, 6.0, 4.0, 6.0, 3.0, 6.0, 4.0, 3.0, 2.0, 1.0, 3.0, 2.0, 2.0, 1.0, 1.0, 1.0, 1.0, 2.0, 2.0, 2.0, 1.0, 1.0, 1.0, 5.606425547375173, 5.475005652484911, 3.7216685251948403, 3.4082983262727775, 2.5311946458275227, 2.60793630689513, 1.6374336003857115, 1.3942099427668924, 1.3942099427668924, 1.3942099427668924, 1.380591355523202, 1.380591355523202, 1.380591355523202, 1.1230029543929867, 1.1230029543929867, 0.9262943522330391, 0.8488473524818165, 0.8740917759608519, 0.8740917759608519, 0.8740917759608519, 0.8740917759608519, 0.8740917759608519, 4.001037338115478, 0.5985446531937234, 0.5985446531937234, 0.5085058348957802, 0.5085058348957802, 0.5085058348957802, 0.5085033303342356, 0.5085033303342356, 0.5085033303342356, 2.2401016418627786, 0.9066747678378542, 0.5085058348957802, 4.289470401742478, 2.4328514086526893, 1.9643555045527863, 1.806128712794812, 1.8971485875528242, 1.3035354162335067, 1.3035354162335067, 1.3035354162335067, 1.3035354162335067, 1.3035354162335067, 1.3035354162335067, 1.3035354162335067, 1.3035354162335067, 1.3035354162335067, 1.3035354162335067, 1.3035313831218582, 1.3035313831218582, 1.32812505352263, 1.5601438558783238, 0.8350212409156813, 0.8350186132823346, 0.8350186132823346, 0.8350186132823346, 1.7670163293219143, 0.6657761103498557, 0.6657761103498557, 0.6657761103498557, 0.6431178446782853, 3.6509572095193428, 0.8987609040530872, 1.3035367606040562, 1.0392500096737631, 2.666938524894574, 1.5084487332961565, 1.305878283863837, 1.305878283863837, 1.305878283863837, 1.0399471597550665, 1.0399471597550665, 1.0267770923007453, 1.0267770923007453, 1.0267770923007453, 0.8543377162261856, 0.7660184970864137, 0.6809280142562463, 3.668304977859075, 0.6672712583256845, 0.6672712583256845, 0.5213591187496927, 0.4694929876252619, 0.4694929876252619, 0.4694929876252619, 0.4694929876252619, 0.3479852891349441, 0.3479852891349441, 0.3479852891349441, 0.34798360656668936, 0.4694929876252619, 2.377538759294922, 2.3453248010432706, 0.8457652328765413, 0.17462426947317491, 0.18754329774389078, 0.21656710658457953, 4.146760937955911, 3.7528710029381656, 3.778923684823199, 3.6456118977462735, 3.6456118977462735, 3.6456118977462735, 1.2003783079973962, 1.2937130507979098, 0.686189540091705, 0.5008393230124022, 0.5008393230124022, 0.5008393230124022, 0.5008393230124022, 0.5008389269546053, 0.5008389269546053, 0.5008389269546053, 0.49037896132492903, 0.32794060858908625, 0.32794060858908625, 0.32794060858908625, 0.32794060858908625, 0.32794060858908625, 0.32794060858908625, 0.34155331310002474, 0.26439368954532017, 0.19324099538578005, 0.19324099538578005, 0.19324099538578005, 0.19323770810606516, 0.1890485849845679, 0.5884879828390811], \"Total\": [4.0, 4.0, 4.0, 4.0, 4.0, 4.0, 6.0, 5.0, 6.0, 4.0, 6.0, 3.0, 6.0, 4.0, 3.0, 2.0, 1.0, 3.0, 2.0, 2.0, 1.0, 1.0, 1.0, 1.0, 2.0, 2.0, 2.0, 1.0, 1.0, 1.0, 6.0443926026785615, 5.916551583376535, 4.155566367846207, 3.857416031750339, 2.964598234895693, 3.0631339735691943, 2.070468759627901, 1.834364175606075, 1.834364175606075, 1.834364175606075, 1.8409655871504664, 1.8409655871504664, 1.8409655871504664, 1.5560396637336131, 1.5560396637336131, 1.3596893800648004, 1.283823402520385, 1.3224507741379186, 1.3224507741379186, 1.3224507741379186, 1.3224507741379186, 1.3224507741379186, 6.610794596799712, 1.0375585797374953, 1.0375585797374953, 0.941541144358726, 0.941541144358726, 0.941541144358726, 0.9415392273805974, 0.9415392273805974, 0.9415392273805974, 6.1668177818970715, 2.204718631401915, 1.2370810712524904, 4.762301576657129, 2.880151845985673, 2.4116560633344624, 2.2556526609035408, 2.3882384126799403, 1.7508359791562742, 1.7508359791562742, 1.7508359791562742, 1.7508359791562742, 1.7508359791562742, 1.7508359791562742, 1.7508359791562742, 1.7508359791562742, 1.7508359791562742, 1.7508359791562742, 1.7508328224154384, 1.7508328224154384, 1.7851674742792518, 2.148102584248304, 1.282322849904264, 1.2823208243909727, 1.2823208243909727, 1.2823208243909727, 2.735691836559805, 1.1237501180399174, 1.1237501180399174, 1.1237501180399174, 1.0904179527417568, 6.305168159944405, 1.5802225249499855, 2.42797410928668, 2.204718631401915, 3.134191062727887, 1.9565962284576415, 1.7528662724448598, 1.7528662724448598, 1.7528662724448598, 1.486935673736993, 1.486935673736993, 1.4868965004887857, 1.4868965004887857, 1.4868965004887857, 1.3013247300850521, 1.2135617501771503, 1.1279175508873558, 6.1668177818970715, 1.1289983421750596, 1.1289983421750596, 0.9683460257233002, 0.9171507014193245, 0.9171507014193245, 0.9171507014193245, 0.9171507014193245, 0.7949720673897676, 0.7949720673897676, 0.7949720673897676, 0.7949707887501195, 1.2370810712524904, 6.305168159944405, 6.610794596799712, 2.42797410928668, 0.7307493608949278, 0.8148241299304022, 2.3882384126799403, 4.6936638056966995, 4.294605481193138, 4.335924601145375, 4.183123478404323, 4.183123478404323, 4.183123478404323, 1.8184513177995887, 2.013376599265349, 1.2262143416381655, 1.038351167850762, 1.038351167850762, 1.038351167850762, 1.038351167850762, 1.038350948068159, 1.038350948068159, 1.038350948068159, 1.0778545747028536, 0.8654518328309928, 0.8654518328309928, 0.8654518328309928, 0.8654518328309928, 0.8654518328309928, 0.8654518328309928, 0.964222924049082, 0.8148241299304022, 0.7307521285402634, 0.7307521285402634, 0.7307521285402634, 0.7307493608949278, 0.7352390049602268, 2.735691836559805], \"Category\": [\"Default\", \"Default\", \"Default\", \"Default\", \"Default\", \"Default\", \"Default\", \"Default\", \"Default\", \"Default\", \"Default\", \"Default\", \"Default\", \"Default\", \"Default\", \"Default\", \"Default\", \"Default\", \"Default\", \"Default\", \"Default\", \"Default\", \"Default\", \"Default\", \"Default\", \"Default\", \"Default\", \"Default\", \"Default\", \"Default\", \"Topic1\", \"Topic1\", \"Topic1\", \"Topic1\", \"Topic1\", \"Topic1\", \"Topic1\", \"Topic1\", \"Topic1\", \"Topic1\", \"Topic1\", \"Topic1\", \"Topic1\", \"Topic1\", \"Topic1\", \"Topic1\", \"Topic1\", \"Topic1\", \"Topic1\", \"Topic1\", \"Topic1\", \"Topic1\", \"Topic1\", \"Topic1\", \"Topic1\", \"Topic1\", \"Topic1\", \"Topic1\", \"Topic1\", \"Topic1\", \"Topic1\", \"Topic1\", \"Topic1\", \"Topic1\", \"Topic2\", \"Topic2\", \"Topic2\", \"Topic2\", \"Topic2\", \"Topic2\", \"Topic2\", \"Topic2\", \"Topic2\", \"Topic2\", \"Topic2\", \"Topic2\", \"Topic2\", \"Topic2\", \"Topic2\", \"Topic2\", \"Topic2\", \"Topic2\", \"Topic2\", \"Topic2\", \"Topic2\", \"Topic2\", \"Topic2\", \"Topic2\", \"Topic2\", \"Topic2\", \"Topic2\", \"Topic2\", \"Topic2\", \"Topic2\", \"Topic2\", \"Topic2\", \"Topic3\", \"Topic3\", \"Topic3\", \"Topic3\", \"Topic3\", \"Topic3\", \"Topic3\", \"Topic3\", \"Topic3\", \"Topic3\", \"Topic3\", \"Topic3\", \"Topic3\", \"Topic3\", \"Topic3\", \"Topic3\", \"Topic3\", \"Topic3\", \"Topic3\", \"Topic3\", \"Topic3\", \"Topic3\", \"Topic3\", \"Topic3\", \"Topic3\", \"Topic3\", \"Topic3\", \"Topic3\", \"Topic3\", \"Topic3\", \"Topic3\", \"Topic3\", \"Topic4\", \"Topic4\", \"Topic4\", \"Topic4\", \"Topic4\", \"Topic4\", \"Topic4\", \"Topic4\", \"Topic4\", \"Topic4\", \"Topic4\", \"Topic4\", \"Topic4\", \"Topic4\", \"Topic4\", \"Topic4\", \"Topic4\", \"Topic4\", \"Topic4\", \"Topic4\", \"Topic4\", \"Topic4\", \"Topic4\", \"Topic4\", \"Topic4\", \"Topic4\", \"Topic4\", \"Topic4\", \"Topic4\", \"Topic4\", \"Topic4\"], \"logprob\": [30.0, 29.0, 28.0, 27.0, 26.0, 25.0, 24.0, 23.0, 22.0, 21.0, 20.0, 19.0, 18.0, 17.0, 16.0, 15.0, 14.0, 13.0, 12.0, 11.0, 10.0, 9.0, 8.0, 7.0, 6.0, 5.0, 4.0, 3.0, 2.0, 1.0, -2.5622000694274902, -2.585900068283081, -2.97189998626709, -3.0599000453948975, -3.3573999404907227, -3.327500104904175, -3.7929999828338623, -3.9537999629974365, -3.9537999629974365, -3.9537999629974365, -3.963599920272827, -3.963599920272827, -3.963599920272827, -4.170100212097168, -4.170100212097168, -4.36269998550415, -4.449999809265137, -4.4207000732421875, -4.4207000732421875, -4.4207000732421875, -4.4207000732421875, -4.4207000732421875, -2.8994998931884766, -4.7993998527526855, -4.7993998527526855, -4.962399959564209, -4.962399959564209, -4.962399959564209, -4.962399959564209, -4.962399959564209, -4.962399959564209, -3.479599952697754, -4.384099960327148, -4.962399959564209, -2.72760009765625, -3.2946999073028564, -3.5085999965667725, -3.592600107192993, -3.5434000492095947, -3.9186999797821045, -3.9186999797821045, -3.9186999797821045, -3.9186999797821045, -3.9186999797821045, -3.9186999797821045, -3.9186999797821045, -3.9186999797821045, -3.9186999797821045, -3.9186999797821045, -3.9186999797821045, -3.9186999797821045, -3.9000000953674316, -3.739000082015991, -4.364099979400635, -4.364099979400635, -4.364099979400635, -4.364099979400635, -3.614500045776367, -4.59060001373291, -4.59060001373291, -4.59060001373291, -4.625199794769287, -2.8887999057769775, -4.290500164031982, -3.9186999797821045, -4.145299911499023, -2.8940000534057617, -3.4637999534606934, -3.6080000400543213, -3.6080000400543213, -3.6080000400543213, -3.835700035095215, -3.835700035095215, -3.8485000133514404, -3.8485000133514404, -3.8485000133514404, -4.032299995422363, -4.14139986038208, -4.259200096130371, -2.575200080871582, -4.279399871826172, -4.279399871826172, -4.526199817657471, -4.63100004196167, -4.63100004196167, -4.63100004196167, -4.63100004196167, -4.930500030517578, -4.930500030517578, -4.930500030517578, -4.930500030517578, -4.63100004196167, -3.0088000297546387, -3.0225000381469727, -4.042399883270264, -5.619999885559082, -5.548600196838379, -5.404699802398682, -2.3278000354766846, -2.4275999069213867, -2.4207000732421875, -2.4565999507904053, -2.4565999507904053, -2.4565999507904053, -3.567500114440918, -3.4925999641418457, -4.126699924468994, -4.4415998458862305, -4.4415998458862305, -4.4415998458862305, -4.4415998458862305, -4.4415998458862305, -4.4415998458862305, -4.4415998458862305, -4.462699890136719, -4.864999771118164, -4.864999771118164, -4.864999771118164, -4.864999771118164, -4.864999771118164, -4.864999771118164, -4.824399948120117, -5.080399990081787, -5.393899917602539, -5.393899917602539, -5.393899917602539, -5.394000053405762, -5.415900230407715, -4.280300140380859], \"loglift\": [30.0, 29.0, 28.0, 27.0, 26.0, 25.0, 24.0, 23.0, 22.0, 21.0, 20.0, 19.0, 18.0, 17.0, 16.0, 15.0, 14.0, 13.0, 12.0, 11.0, 10.0, 9.0, 8.0, 7.0, 6.0, 5.0, 4.0, 3.0, 2.0, 1.0, 1.0724, 1.0701, 1.0373, 1.0238, 0.9896, 0.9867, 0.913, 0.8733, 0.8733, 0.8733, 0.8598, 0.8598, 0.8598, 0.8215, 0.8215, 0.7638, 0.7339, 0.7336, 0.7336, 0.7336, 0.7336, 0.7336, 0.6455, 0.5975, 0.5975, 0.5316, 0.5316, 0.5316, 0.5316, 0.5316, 0.5316, 0.135, 0.2591, 0.2586, 1.1454, 1.0812, 1.0448, 1.0277, 1.0197, 0.9549, 0.9549, 0.9549, 0.9549, 0.9549, 0.9549, 0.9549, 0.9549, 0.9549, 0.9549, 0.9549, 0.9549, 0.9542, 0.9301, 0.821, 0.821, 0.821, 0.821, 0.8128, 0.7265, 0.7265, 0.7265, 0.7219, 0.7036, 0.6856, 0.628, 0.4978, 1.3974, 1.2987, 1.2645, 1.2645, 1.2645, 1.2013, 1.2013, 1.1886, 1.1886, 1.1886, 1.138, 1.0987, 1.0542, 1.0394, 1.0329, 1.0329, 0.9397, 0.8892, 0.8892, 0.8892, 0.8892, 0.7327, 0.7327, 0.7327, 0.7327, 0.59, 0.5835, 0.5226, 0.5043, 0.1274, 0.0899, -0.8416, 1.5597, 1.5488, 1.5461, 1.5461, 1.5461, 1.5461, 1.2682, 1.2413, 1.1031, 0.9545, 0.9545, 0.9545, 0.9545, 0.9545, 0.9545, 0.9545, 0.896, 0.7132, 0.7132, 0.7132, 0.7132, 0.7132, 0.7132, 0.6458, 0.5581, 0.3535, 0.3535, 0.3535, 0.3534, 0.3254, 0.147]}, \"token.table\": {\"Topic\": [4, 1, 2, 1, 3, 1, 4, 1, 2, 1, 4, 1, 4, 1, 2, 2, 1, 3, 2, 2, 3, 1, 1, 3, 4, 4, 2, 1, 1, 1, 1, 2, 3, 1, 2, 3, 2, 2, 1, 2, 1, 2, 2, 4, 2, 3, 2, 1, 2, 1, 3, 2, 3, 4, 4, 2, 1, 3, 2, 2, 4, 3, 4, 2, 4, 2, 3, 3, 1, 1, 1, 3, 3, 3, 2, 1, 1, 3, 2, 2, 1, 3, 1, 1, 1, 2, 1, 4, 1, 2, 4, 2, 1, 2, 1, 2, 3, 3, 4, 4, 2, 1, 4], \"Freq\": [0.49667806825850913, 0.4535726172750351, 0.4535726172750351, 0.7561718133908475, 1.0326887015961634, 1.0620906393693685, 0.9630655240990433, 0.5431932063150877, 0.8898775483505474, 0.7561718133908475, 0.9630653202517763, 0.5431932063150877, 0.9630655240990433, 0.7789233301377848, 0.779836044910946, 0.8293056503400039, 1.0119415051549312, 0.8240206976315992, 0.779836044910946, 0.6328222666182095, 0.5704941761502558, 0.5451480209318847, 0.7777226970871279, 0.9571847854702604, 0.9630653202517763, 0.8155181080854481, 0.5711557289803347, 0.9926555725948562, 0.5431932063150877, 0.5451480209318847, 0.6426571399861151, 0.8898775483505474, 0.6725240490644645, 0.8450868600636006, 0.5711567587706096, 0.5704941761502558, 0.5711557289803347, 0.5711557289803347, 1.0620906393693685, 0.5711557289803347, 1.0620884769524221, 0.5711557289803347, 0.8399300077102168, 0.5499184884476571, 0.5711567587706096, 0.6725240490644645, 0.5711557289803347, 0.7561718133908475, 0.5711557289803347, 0.9793890916577737, 0.6725417671447012, 0.4118660063857898, 0.4118660063857898, 0.9314010373052266, 0.9562232672906474, 0.5711557289803347, 0.7561718133908475, 0.6725417671447012, 0.9170795450364614, 0.8866613351715531, 0.9630655240990433, 0.8865896263545855, 0.9225252669161643, 0.7798348131086164, 0.9630653202517763, 0.6344002092460083, 0.31720010462300413, 0.6725417671447012, 0.9625643404350595, 0.9638010031713122, 0.32431637689556453, 0.6486327537911291, 0.7684477032374862, 0.5704941761502558, 0.8898775483505474, 1.0620884769524221, 0.7561718133908475, 0.8857408931827666, 0.5711557289803347, 0.5711557289803347, 0.6050709852543901, 0.30253549262719504, 0.8083544589260782, 0.9659648283509646, 0.6426571399861151, 0.779836044910946, 1.0620906393693685, 0.9630653202517763, 0.7354620949913881, 0.7310764952660186, 0.3655382476330093, 0.9310542311459812, 1.0620884769524221, 0.5601715325917769, 0.5451480209318847, 0.8374373301180253, 1.0221833053294664, 0.8857408931827666, 0.852212720294368, 0.9562232672906474, 0.6944078322771697, 0.9638010031713122, 0.9562232672906474], \"Term\": [\"ability\", \"able\", \"able\", \"accept\", \"access\", \"adequate\", \"already\", \"away\", \"bug\", \"choose\", \"clearly\", \"close\", \"come\", \"communicate\", \"connection\", \"contact\", \"content\", \"control\", \"convenience\", \"day\", \"default\", \"downvote\", \"easily\", \"easy\", \"ememe\", \"enjoy\", \"especially\", \"family\", \"far\", \"filter\", \"find\", \"fix\", \"follow\", \"friend\", \"group\", \"hate\", \"hobbie\", \"hobby\", \"honest\", \"hot\", \"idiot\", \"interest\", \"keep\", \"know\", \"large\", \"late\", \"learn\", \"list\", \"literature\", \"live\", \"look\", \"lot\", \"lot\", \"love\", \"many\", \"meet\", \"minute\", \"mostly\", \"mute\", \"new\", \"news\", \"none\", \"option\", \"other\", \"page\", \"people\", \"people\", \"photo\", \"picture\", \"platform\", \"post\", \"post\", \"really\", \"recent\", \"regularly\", \"repeatedly\", \"request\", \"respond\", \"russian\", \"sauce\", \"see\", \"see\", \"send\", \"share\", \"similar\", \"simplicity\", \"stand\", \"suggest\", \"think\", \"time\", \"time\", \"touch\", \"unfollow\", \"update\", \"upvote\", \"use\", \"video\", \"view\", \"want\", \"watch\", \"weird\", \"well\", \"youtube\"]}, \"R\": 30, \"lambda.step\": 0.01, \"plot.opts\": {\"xlab\": \"PC1\", \"ylab\": \"PC2\"}, \"topic.order\": [3, 4, 2, 1]};\n",
       "\n",
       "function LDAvis_load_lib(url, callback){\n",
       "  var s = document.createElement('script');\n",
       "  s.src = url;\n",
       "  s.async = true;\n",
       "  s.onreadystatechange = s.onload = callback;\n",
       "  s.onerror = function(){console.warn(\"failed to load library \" + url);};\n",
       "  document.getElementsByTagName(\"head\")[0].appendChild(s);\n",
       "}\n",
       "\n",
       "if(typeof(LDAvis) !== \"undefined\"){\n",
       "   // already loaded: just create the visualization\n",
       "   !function(LDAvis){\n",
       "       new LDAvis(\"#\" + \"ldavis_el836415124447121365484459790\", ldavis_el836415124447121365484459790_data);\n",
       "   }(LDAvis);\n",
       "}else if(typeof define === \"function\" && define.amd){\n",
       "   // require.js is available: use it to load d3/LDAvis\n",
       "   require.config({paths: {d3: \"https://cdnjs.cloudflare.com/ajax/libs/d3/3.5.5/d3.min\"}});\n",
       "   require([\"d3\"], function(d3){\n",
       "      window.d3 = d3;\n",
       "      LDAvis_load_lib(\"https://cdn.rawgit.com/bmabey/pyLDAvis/files/ldavis.v1.0.0.js\", function(){\n",
       "        new LDAvis(\"#\" + \"ldavis_el836415124447121365484459790\", ldavis_el836415124447121365484459790_data);\n",
       "      });\n",
       "    });\n",
       "}else{\n",
       "    // require.js not available: dynamically load d3 & LDAvis\n",
       "    LDAvis_load_lib(\"https://cdnjs.cloudflare.com/ajax/libs/d3/3.5.5/d3.min.js\", function(){\n",
       "         LDAvis_load_lib(\"https://cdn.rawgit.com/bmabey/pyLDAvis/files/ldavis.v1.0.0.js\", function(){\n",
       "                 new LDAvis(\"#\" + \"ldavis_el836415124447121365484459790\", ldavis_el836415124447121365484459790_data);\n",
       "            })\n",
       "         });\n",
       "}\n",
       "</script>"
      ],
      "text/plain": [
       "PreparedData(topic_coordinates=              x         y  topics  cluster       Freq\n",
       "topic                                                \n",
       "2     -0.101174  0.137946       1        1  31.739082\n",
       "3     -0.063741 -0.151668       2        1  28.652379\n",
       "1     -0.069427 -0.003535       3        1  21.038066\n",
       "0      0.234342  0.017256       4        1  18.570472, topic_info=           Term      Freq     Total Category  logprob  loglift\n",
       "54         want  4.000000  4.000000  Default  30.0000  30.0000\n",
       "37       option  4.000000  4.000000  Default  29.0000  29.0000\n",
       "28         love  4.000000  4.000000  Default  28.0000  28.0000\n",
       "127        many  4.000000  4.000000  Default  27.0000  27.0000\n",
       "129     youtube  4.000000  4.000000  Default  26.0000  26.0000\n",
       "..          ...       ...       ...      ...      ...      ...\n",
       "33          set  0.193241  0.730752   Topic4  -5.3939   0.3535\n",
       "31      private  0.193241  0.730752   Topic4  -5.3939   0.3535\n",
       "25      useless  0.193238  0.730749   Topic4  -5.3940   0.3534\n",
       "24   popularity  0.189049  0.735239   Topic4  -5.4159   0.3254\n",
       "80         time  0.588488  2.735692   Topic4  -4.2803   0.1470\n",
       "\n",
       "[159 rows x 6 columns], token_table=      Topic      Freq     Term\n",
       "term                          \n",
       "30        4  0.496678  ability\n",
       "13        1  0.453573     able\n",
       "13        2  0.453573     able\n",
       "81        1  0.756172   accept\n",
       "5         3  1.032689   access\n",
       "...     ...       ...      ...\n",
       "54        4  0.852213     want\n",
       "128       4  0.956223    watch\n",
       "120       2  0.694408    weird\n",
       "62        1  0.963801     well\n",
       "129       4  0.956223  youtube\n",
       "\n",
       "[103 rows x 3 columns], R=30, lambda_step=0.01, plot_opts={'xlab': 'PC1', 'ylab': 'PC2'}, topic_order=[3, 4, 2, 1])"
      ]
     },
     "execution_count": 16,
     "metadata": {},
     "output_type": "execute_result"
    }
   ],
   "source": [
    "# Visualize the topics\n",
    "pyLDAvis.enable_notebook()\n",
    "vis = pyLDAvis.gensim.prepare(lda_model, corpus, id2word,mds = 'pcoa')\n",
    "vis"
   ]
  },
  {
   "cell_type": "markdown",
   "metadata": {},
   "source": [
    "# LDA Mallet"
   ]
  },
  {
   "cell_type": "markdown",
   "metadata": {},
   "source": [
    "The Coherence score here is a little bit loe so try LDA Mallet to improve the performance"
   ]
  },
  {
   "cell_type": "code",
   "execution_count": 17,
   "metadata": {},
   "outputs": [],
   "source": [
    "\n",
    "import os\n",
    "from gensim.models.wrappers import LdaMallet\n",
    "\n",
    "# Download File: http://mallet.cs.umass.edu/dist/mallet-2.0.8.zip\n",
    "\n",
    "os.environ.update({'MALLET_HOME': r'C:/new_mallet/mallet-2.0.8/'})\n",
    "mallet_path = 'C:/new_mallet/mallet-2.0.8/bin/mallet'\n",
    "ldamallet = gensim.models.wrappers.LdaMallet(mallet_path, corpus=corpus, num_topics=6, id2word=id2word, random_seed=0)"
   ]
  },
  {
   "cell_type": "code",
   "execution_count": 18,
   "metadata": {},
   "outputs": [
    {
     "name": "stdout",
     "output_type": "stream",
     "text": [
      "[(0,\n",
      "  [('video', 0.1111111111111111),\n",
      "   ('content', 0.1111111111111111),\n",
      "   ('enjoy', 0.07407407407407407),\n",
      "   ('love', 0.07407407407407407),\n",
      "   ('recent', 0.037037037037037035),\n",
      "   ('suggest', 0.037037037037037035),\n",
      "   ('feature', 0.037037037037037035),\n",
      "   ('useless', 0.037037037037037035),\n",
      "   ('culture', 0.037037037037037035),\n",
      "   ('money', 0.037037037037037035)]),\n",
      " (1,\n",
      "  [('friend', 0.26666666666666666),\n",
      "   ('picture', 0.16666666666666666),\n",
      "   ('live', 0.06666666666666667),\n",
      "   ('block', 0.06666666666666667),\n",
      "   ('downvote', 0.03333333333333333),\n",
      "   ('communicate', 0.03333333333333333),\n",
      "   ('interest', 0.03333333333333333),\n",
      "   ('feature', 0.03333333333333333),\n",
      "   ('lot', 0.03333333333333333),\n",
      "   ('voice', 0.03333333333333333)]),\n",
      " (2,\n",
      "  [('post', 0.20588235294117646),\n",
      "   ('access', 0.058823529411764705),\n",
      "   ('weird', 0.058823529411764705),\n",
      "   ('update', 0.058823529411764705),\n",
      "   ('day', 0.058823529411764705),\n",
      "   ('learn', 0.029411764705882353),\n",
      "   ('literature', 0.029411764705882353),\n",
      "   ('feed', 0.029411764705882353),\n",
      "   ('dominant', 0.029411764705882353),\n",
      "   ('mute', 0.029411764705882353)]),\n",
      " (3,\n",
      "  [('ability', 0.19047619047619047),\n",
      "   ('send', 0.09523809523809523),\n",
      "   ('private', 0.047619047619047616),\n",
      "   ('hobbie', 0.047619047619047616),\n",
      "   ('news', 0.047619047619047616),\n",
      "   ('hot', 0.047619047619047616),\n",
      "   ('care', 0.047619047619047616),\n",
      "   ('touch', 0.047619047619047616),\n",
      "   ('late', 0.047619047619047616),\n",
      "   ('connection', 0.047619047619047616)]),\n",
      " (4,\n",
      "  [('family', 0.23333333333333334),\n",
      "   ('share', 0.1),\n",
      "   ('time', 0.1),\n",
      "   ('people', 0.06666666666666667),\n",
      "   ('choose', 0.03333333333333333),\n",
      "   ('lot', 0.03333333333333333),\n",
      "   ('accept', 0.03333333333333333),\n",
      "   ('mute', 0.03333333333333333),\n",
      "   ('meet', 0.03333333333333333),\n",
      "   ('convenience', 0.03333333333333333)]),\n",
      " (5,\n",
      "  [('people', 0.2222222222222222),\n",
      "   ('easy', 0.2222222222222222),\n",
      "   ('easily', 0.1388888888888889),\n",
      "   ('clean', 0.027777777777777776),\n",
      "   ('upvote', 0.027777777777777776),\n",
      "   ('minute', 0.027777777777777776),\n",
      "   ('story', 0.027777777777777776),\n",
      "   ('control', 0.027777777777777776),\n",
      "   ('default', 0.027777777777777776),\n",
      "   ('profile', 0.027777777777777776)])]\n",
      "\n",
      "Coherence Score:  0.7485849921916582\n"
     ]
    }
   ],
   "source": [
    "# Show Topics\n",
    "pprint(ldamallet.show_topics(formatted=False))\n",
    "\n",
    "# Compute Coherence Score\n",
    "coherence_model_ldamallet = CoherenceModel(model=ldamallet, texts=data_lemmatized, dictionary=id2word, coherence='c_v')\n",
    "coherence_ldamallet = coherence_model_ldamallet.get_coherence()\n",
    "print('\\nCoherence Score: ', coherence_ldamallet)"
   ]
  },
  {
   "cell_type": "code",
   "execution_count": 19,
   "metadata": {},
   "outputs": [],
   "source": [
    "def compute_coherence_values(dictionary, corpus, texts, limit, start=2, step=3):\n",
    "    \"\"\"\n",
    "    Compute c_v coherence for various number of topics\n",
    "\n",
    "    Parameters:\n",
    "    ----------\n",
    "    dictionary : Gensim dictionary\n",
    "    corpus : Gensim corpus\n",
    "    texts : List of input texts\n",
    "    limit : Max num of topics\n",
    "\n",
    "    Returns:\n",
    "    -------\n",
    "    model_list : List of LDA topic models\n",
    "    coherence_values : Coherence values corresponding to the LDA model with respective number of topics\n",
    "    \"\"\"\n",
    "    coherence_values = []\n",
    "    model_list = []\n",
    "    for num_topics in range(start, limit, step):\n",
    "        model = gensim.models.wrappers.LdaMallet(mallet_path, corpus=corpus, num_topics=num_topics, id2word=id2word, random_seed=0)\n",
    "        model_list.append(model)\n",
    "        coherencemodel = CoherenceModel(model=model, texts=texts, dictionary=dictionary, coherence='c_v')\n",
    "        coherence_values.append(coherencemodel.get_coherence())\n",
    "\n",
    "    return model_list, coherence_values"
   ]
  },
  {
   "cell_type": "code",
   "execution_count": 20,
   "metadata": {},
   "outputs": [],
   "source": [
    "model_list, coherence_values = compute_coherence_values(dictionary=id2word, corpus=corpus, texts=data_lemmatized, start=2, limit=10, step=1)\n"
   ]
  },
  {
   "cell_type": "code",
   "execution_count": 21,
   "metadata": {},
   "outputs": [
    {
     "data": {
      "image/png": "[encoded data removed]",
      "text/plain": [
       "<Figure size 432x288 with 1 Axes>"
      ]
     },
     "metadata": {
      "needs_background": "light"
     },
     "output_type": "display_data"
    }
   ],
   "source": [
    "# Show graph\n",
    "limit=10; start=2; step=1;\n",
    "x = range(start, limit, step)\n",
    "plt.plot(x, coherence_values)\n",
    "plt.xlabel(\"Num Topics\")\n",
    "plt.ylabel(\"Coherence score\")\n",
    "plt.legend((\"coherence_values\"), loc='best')\n",
    "plt.show()"
   ]
  },
  {
   "cell_type": "code",
   "execution_count": 22,
   "metadata": {},
   "outputs": [
    {
     "name": "stdout",
     "output_type": "stream",
     "text": [
      "Num Topics = 2  has Coherence Value of 0.6817\n",
      "Num Topics = 3  has Coherence Value of 0.7378\n",
      "Num Topics = 4  has Coherence Value of 0.7724\n",
      "Num Topics = 5  has Coherence Value of 0.7454\n",
      "Num Topics = 6  has Coherence Value of 0.743\n",
      "Num Topics = 7  has Coherence Value of 0.7187\n",
      "Num Topics = 8  has Coherence Value of 0.7435\n",
      "Num Topics = 9  has Coherence Value of 0.7259\n"
     ]
    }
   ],
   "source": [
    "# Print the coherence scores\n",
    "for m, cv in zip(x, coherence_values):\n",
    "    print(\"Num Topics =\", m, \" has Coherence Value of\", round(cv, 4))"
   ]
  },
  {
   "cell_type": "code",
   "execution_count": 27,
   "metadata": {},
   "outputs": [
    {
     "name": "stdout",
     "output_type": "stream",
     "text": [
      "[(0,\n",
      "  '0.175*\"people\" + 0.088*\"easily\" + 0.088*\"post\" + 0.035*\"control\" + '\n",
      "  '0.035*\"access\" + 0.035*\"update\" + 0.035*\"contact\" + 0.018*\"receive\" + '\n",
      "  '0.018*\"hate\" + 0.018*\"ememe\"'),\n",
      " (1,\n",
      "  '0.200*\"friend\" + 0.075*\"video\" + 0.075*\"time\" + 0.050*\"send\" + '\n",
      "  '0.025*\"communicate\" + 0.025*\"hobby\" + 0.025*\"view\" + 0.025*\"upvote\" + '\n",
      "  '0.025*\"photo\" + 0.025*\"list\"'),\n",
      " (2,\n",
      "  '0.160*\"easy\" + 0.100*\"picture\" + 0.060*\"lot\" + 0.060*\"ability\" + '\n",
      "  '0.060*\"share\" + 0.040*\"live\" + 0.040*\"weird\" + 0.040*\"family\" + 0.020*\"bug\" '\n",
      "  '+ 0.020*\"suggest\"'),\n",
      " (3,\n",
      "  '0.161*\"family\" + 0.097*\"content\" + 0.065*\"block\" + 0.065*\"post\" + '\n",
      "  '0.065*\"enjoy\" + 0.032*\"simplicity\" + 0.032*\"ease\" + 0.032*\"connection\" + '\n",
      "  '0.032*\"feature\" + 0.032*\"day\"')]\n"
     ]
    }
   ],
   "source": [
    "# Select the model and print the topics\n",
    "optimal_model = model_list[2]\n",
    "model_topics = optimal_model.show_topics(formatted=False)\n",
    "pprint(optimal_model.print_topics(num_words=10))"
   ]
  },
  {
   "cell_type": "code",
   "execution_count": 28,
   "metadata": {},
   "outputs": [
    {
     "name": "stderr",
     "output_type": "stream",
     "text": [
      "C:\\Users\\uyent\\capstone\\lib\\site-packages\\pyLDAvis\\_prepare.py:223: RuntimeWarning: divide by zero encountered in log\n",
      "  kernel = (topic_given_term * np.log((topic_given_term.T / topic_proportion).T))\n",
      "C:\\Users\\uyent\\capstone\\lib\\site-packages\\pyLDAvis\\_prepare.py:240: RuntimeWarning: divide by zero encountered in log\n",
      "  log_lift = np.log(topic_term_dists / term_proportion)\n",
      "C:\\Users\\uyent\\capstone\\lib\\site-packages\\pyLDAvis\\_prepare.py:241: RuntimeWarning: divide by zero encountered in log\n",
      "  log_ttd = np.log(topic_term_dists)\n"
     ]
    },
    {
     "data": {
      "text/html": [
       "\n",
       "<link rel=\"stylesheet\" type=\"text/css\" href=\"https://cdn.rawgit.com/bmabey/pyLDAvis/files/ldavis.v1.0.0.css\">\n",
       "\n",
       "\n",
       "<div id=\"ldavis_el836415124463710164802468416\"></div>\n",
       "<script type=\"text/javascript\">\n",
       "\n",
       "var ldavis_el836415124463710164802468416_data = {\"mdsDat\": {\"x\": [-0.12232748098155842, -0.16163489066861075, 0.43290919709242454, -0.14894682544225565], \"y\": [-0.28031794037428887, 0.3617356183429832, 0.020712348874672964, -0.1021300268433675], \"topics\": [1, 2, 3, 4], \"cluster\": [1, 1, 1, 1], \"Freq\": [25.638608958980864, 25.28319907669913, 24.831883306529782, 24.246308657790223]}, \"tinfo\": {\"Term\": [\"friend\", \"people\", \"easy\", \"family\", \"picture\", \"content\", \"easily\", \"post\", \"time\", \"video\", \"block\", \"enjoy\", \"lot\", \"share\", \"send\", \"ability\", \"weird\", \"live\", \"access\", \"control\", \"contact\", \"update\", \"ease\", \"simplicity\", \"choose\", \"honest\", \"large\", \"downvote\", \"connection\", \"voice\", \"youtube\", \"platform\", \"access\", \"thing\", \"kind\", \"feed\", \"popularity\", \"easily\", \"control\", \"payment\", \"receive\", \"idiot\", \"repeatedly\", \"unfollow\", \"watch\", \"people\", \"follow\", \"late\", \"update\", \"close\", \"culture\", \"run\", \"contact\", \"accept\", \"minute\", \"sauce\", \"hobbie\", \"hate\", \"ememe\", \"post\", \"option\", \"ability\", \"love\", \"day\", \"touch\", \"live\", \"care\", \"heavily\", \"clean\", \"share\", \"useless\", \"picture\", \"profile\", \"set\", \"lot\", \"money\", \"facebook\", \"weird\", \"story\", \"bug\", \"regularly\", \"respond\", \"end\", \"request\", \"find\", \"similar\", \"suggest\", \"default\", \"filter\", \"hot\", \"easy\", \"ability\", \"love\", \"mute\", \"family\", \"group\", \"time\", \"audience\", \"video\", \"private\", \"send\", \"adequate\", \"stand\", \"friend\", \"fix\", \"view\", \"dominant\", \"russian\", \"fact\", \"list\", \"convenience\", \"photo\", \"news\", \"page\", \"recent\", \"upvote\", \"hobby\", \"learn\", \"literature\", \"meet\", \"adopt\", \"touch\", \"communicate\", \"easy\", \"heavily\", \"popularity\", \"access\", \"large\", \"medium\", \"block\", \"ease\", \"voice\", \"honest\", \"interest\", \"enjoy\", \"real\", \"choose\", \"connection\", \"simplicity\", \"downvote\", \"make\", \"content\", \"family\", \"feature\", \"day\", \"option\", \"mute\", \"communicate\", \"post\", \"adopt\", \"easy\", \"heavily\", \"people\", \"use\", \"access\", \"thing\", \"audience\", \"facebook\", \"adequate\", \"repeatedly\", \"stand\", \"story\", \"send\", \"money\", \"receive\", \"payment\", \"idiot\", \"unfollow\"], \"Freq\": [11.0, 10.0, 9.0, 11.0, 5.0, 5.0, 5.0, 8.0, 4.0, 4.0, 3.0, 3.0, 3.0, 3.0, 2.0, 4.0, 2.0, 2.0, 2.0, 2.0, 2.0, 2.0, 1.0, 1.0, 1.0, 1.0, 1.0, 1.0, 1.0, 1.0, 1.0300423599309856, 1.0300423599309856, 2.060084719861971, 1.0300423599309856, 1.0300423599309856, 1.0300423599309856, 1.0300423599309856, 5.150211799654928, 2.060084719861971, 1.0300423599309856, 1.0300423599309856, 1.0300423599309856, 1.0300423599309856, 1.0300423599309856, 1.0300423599309856, 10.300423599309855, 1.0300423599309856, 1.0300423599309856, 2.060084719861971, 1.0300423599309856, 1.0300423599309856, 1.0300423599309856, 2.060084719861971, 1.0300423599309856, 1.0300423599309856, 1.0300423599309856, 1.0300423599309856, 1.0300423599309856, 1.0300423599309856, 5.150211799654928, 1.0300423599309856, 1.0300423599309856, 1.0300423599309856, 1.0300423599309856, 1.0300423599309856, 2.3159410354256407, 1.1579705177128203, 1.1579705177128203, 1.1579705177128203, 3.4739115531384606, 1.1579705177128203, 5.789852588564102, 1.1579705177128203, 1.1579705177128203, 3.4739115531384606, 1.1579705177128203, 1.1579705177128203, 2.3159410354256407, 1.1579705177128203, 1.1579705177128203, 1.1579705177128203, 1.1579705177128203, 1.1579705177128203, 1.1579705177128203, 1.1579705177128203, 1.1579705177128203, 1.1579705177128203, 1.1579705177128203, 1.1579705177128203, 1.1579705177128203, 9.263764141702563, 3.4739115531384606, 1.1579705177128203, 1.1579705177128203, 2.3159410354256407, 1.4216253192988302, 4.26487595789649, 1.4216253192988302, 4.26487595789649, 1.4216253192988302, 2.8432506385976604, 1.4216253192988302, 1.4216253192988302, 11.373002554390641, 1.4216253192988302, 1.4216253192988302, 1.4216253192988302, 1.4216253192988302, 1.4216253192988302, 1.4216253192988302, 1.4216253192988302, 1.4216253192988302, 1.4216253192988302, 1.4216253192988302, 1.4216253192988302, 1.4216253192988302, 1.4216253192988302, 1.4216253192988302, 1.4216253192988302, 1.4216253192988302, 1.4216253192988302, 1.4216253192988302, 1.4216253192988302, 0.0, 0.0, 0.0, 0.0, 1.791098284720633, 1.791098284720633, 3.582196569441266, 1.791098284720633, 1.791098284720633, 1.791098284720633, 1.791098284720633, 3.582196569441266, 1.791098284720633, 1.791098284720633, 1.791098284720633, 1.791098284720633, 1.791098284720633, 1.791098284720633, 5.373294854161899, 8.955491423603165, 1.791098284720633, 1.791098284720633, 1.791098284720633, 1.791098284720633, 1.791098284720633, 3.582196569441266, 0.0, 0.0, 0.0, 0.0, 0.0, 0.0, 0.0, 0.0, 0.0, 0.0, 0.0, 0.0, 0.0, 0.0, 0.0, 0.0, 0.0, 0.0, 0.0], \"Total\": [11.0, 10.0, 9.0, 11.0, 5.0, 5.0, 5.0, 8.0, 4.0, 4.0, 3.0, 3.0, 3.0, 3.0, 2.0, 4.0, 2.0, 2.0, 2.0, 2.0, 2.0, 2.0, 1.0, 1.0, 1.0, 1.0, 1.0, 1.0, 1.0, 1.0, 1.0300423599309856, 1.0300423599309856, 2.060084719861971, 1.0300423599309856, 1.0300423599309856, 1.0300423599309856, 1.0300423599309856, 5.150211799654928, 2.060084719861971, 1.0300423599309856, 1.0300423599309856, 1.0300423599309856, 1.0300423599309856, 1.0300423599309856, 1.0300423599309856, 10.300423599309855, 1.0300423599309856, 1.0300423599309856, 2.060084719861971, 1.0300423599309856, 1.0300423599309856, 1.0300423599309856, 2.060084719861971, 1.0300423599309856, 1.0300423599309856, 1.0300423599309856, 1.0300423599309856, 1.0300423599309856, 1.0300423599309856, 8.732408369096193, 2.8211406446516185, 4.503953913069446, 2.188012877643806, 2.8211406446516185, 2.451667679229816, 2.3159410354256407, 1.1579705177128203, 1.1579705177128203, 1.1579705177128203, 3.4739115531384606, 1.1579705177128203, 5.789852588564102, 1.1579705177128203, 1.1579705177128203, 3.4739115531384606, 1.1579705177128203, 1.1579705177128203, 2.3159410354256407, 1.1579705177128203, 1.1579705177128203, 1.1579705177128203, 1.1579705177128203, 1.1579705177128203, 1.1579705177128203, 1.1579705177128203, 1.1579705177128203, 1.1579705177128203, 1.1579705177128203, 1.1579705177128203, 1.1579705177128203, 9.263764141702563, 4.503953913069446, 2.188012877643806, 2.9490688024334535, 11.271432459028805, 1.4216253192988302, 4.26487595789649, 1.4216253192988302, 4.26487595789649, 1.4216253192988302, 2.8432506385976604, 1.4216253192988302, 1.4216253192988302, 11.373002554390641, 1.4216253192988302, 1.4216253192988302, 1.4216253192988302, 1.4216253192988302, 1.4216253192988302, 1.4216253192988302, 1.4216253192988302, 1.4216253192988302, 1.4216253192988302, 1.4216253192988302, 1.4216253192988302, 1.4216253192988302, 1.4216253192988302, 1.4216253192988302, 1.4216253192988302, 1.4216253192988302, 1.4216253192988302, 2.451667679229816, 3.2127236040194633, 9.263764141702563, 1.1579705177128203, 1.0300423599309856, 2.060084719861971, 1.791098284720633, 1.791098284720633, 3.582196569441266, 1.791098284720633, 1.791098284720633, 1.791098284720633, 1.791098284720633, 3.582196569441266, 1.791098284720633, 1.791098284720633, 1.791098284720633, 1.791098284720633, 1.791098284720633, 1.791098284720633, 5.373294854161899, 11.271432459028805, 2.8211406446516185, 2.8211406446516185, 2.8211406446516185, 2.9490688024334535, 3.2127236040194633, 8.732408369096193, 1.4216253192988302, 9.263764141702563, 1.1579705177128203, 10.300423599309855, 0.0, 2.060084719861971, 1.0300423599309856, 1.4216253192988302, 1.1579705177128203, 1.4216253192988302, 1.0300423599309856, 1.4216253192988302, 1.1579705177128203, 2.8432506385976604, 1.1579705177128203, 1.0300423599309856, 1.0300423599309856, 1.0300423599309856, 1.0300423599309856], \"Category\": [\"Default\", \"Default\", \"Default\", \"Default\", \"Default\", \"Default\", \"Default\", \"Default\", \"Default\", \"Default\", \"Default\", \"Default\", \"Default\", \"Default\", \"Default\", \"Default\", \"Default\", \"Default\", \"Default\", \"Default\", \"Default\", \"Default\", \"Default\", \"Default\", \"Default\", \"Default\", \"Default\", \"Default\", \"Default\", \"Default\", \"Topic1\", \"Topic1\", \"Topic1\", \"Topic1\", \"Topic1\", \"Topic1\", \"Topic1\", \"Topic1\", \"Topic1\", \"Topic1\", \"Topic1\", \"Topic1\", \"Topic1\", \"Topic1\", \"Topic1\", \"Topic1\", \"Topic1\", \"Topic1\", \"Topic1\", \"Topic1\", \"Topic1\", \"Topic1\", \"Topic1\", \"Topic1\", \"Topic1\", \"Topic1\", \"Topic1\", \"Topic1\", \"Topic1\", \"Topic1\", \"Topic1\", \"Topic1\", \"Topic1\", \"Topic1\", \"Topic1\", \"Topic2\", \"Topic2\", \"Topic2\", \"Topic2\", \"Topic2\", \"Topic2\", \"Topic2\", \"Topic2\", \"Topic2\", \"Topic2\", \"Topic2\", \"Topic2\", \"Topic2\", \"Topic2\", \"Topic2\", \"Topic2\", \"Topic2\", \"Topic2\", \"Topic2\", \"Topic2\", \"Topic2\", \"Topic2\", \"Topic2\", \"Topic2\", \"Topic2\", \"Topic2\", \"Topic2\", \"Topic2\", \"Topic2\", \"Topic2\", \"Topic3\", \"Topic3\", \"Topic3\", \"Topic3\", \"Topic3\", \"Topic3\", \"Topic3\", \"Topic3\", \"Topic3\", \"Topic3\", \"Topic3\", \"Topic3\", \"Topic3\", \"Topic3\", \"Topic3\", \"Topic3\", \"Topic3\", \"Topic3\", \"Topic3\", \"Topic3\", \"Topic3\", \"Topic3\", \"Topic3\", \"Topic3\", \"Topic3\", \"Topic3\", \"Topic3\", \"Topic3\", \"Topic3\", \"Topic3\", \"Topic3\", \"Topic3\", \"Topic4\", \"Topic4\", \"Topic4\", \"Topic4\", \"Topic4\", \"Topic4\", \"Topic4\", \"Topic4\", \"Topic4\", \"Topic4\", \"Topic4\", \"Topic4\", \"Topic4\", \"Topic4\", \"Topic4\", \"Topic4\", \"Topic4\", \"Topic4\", \"Topic4\", \"Topic4\", \"Topic4\", \"Topic4\", \"Topic4\", \"Topic4\", \"Topic4\", \"Topic4\", \"Topic4\", \"Topic4\", \"Topic4\", \"Topic4\", \"Topic4\", \"Topic4\", \"Topic4\", \"Topic4\", \"Topic4\", \"Topic4\", \"Topic4\", \"Topic4\", \"Topic4\", \"Topic4\", \"Topic4\"], \"logprob\": [30.0, 29.0, 28.0, 27.0, 26.0, 25.0, 24.0, 23.0, 22.0, 21.0, 20.0, 19.0, 18.0, 17.0, 16.0, 15.0, 14.0, 13.0, 12.0, 11.0, 10.0, 9.0, 8.0, 7.0, 6.0, 5.0, 4.0, 3.0, 2.0, 1.0, -4.0431, -4.0431, -3.3499, -4.0431, -4.0431, -4.0431, -4.0431, -2.4336, -3.3499, -4.0431, -4.0431, -4.0431, -4.0431, -4.0431, -4.0431, -1.7405, -4.0431, -4.0431, -3.3499, -4.0431, -4.0431, -4.0431, -3.3499, -4.0431, -4.0431, -4.0431, -4.0431, -4.0431, -4.0431, -2.4336, -4.0431, -4.0431, -4.0431, -4.0431, -4.0431, -3.2189, -3.912, -3.912, -3.912, -2.8134, -3.912, -2.3026, -3.912, -3.912, -2.8134, -3.912, -3.912, -3.2189, -3.912, -3.912, -3.912, -3.912, -3.912, -3.912, -3.912, -3.912, -3.912, -3.912, -3.912, -3.912, -1.8326, -2.8134, -3.912, -3.912, -3.2189, -3.6889, -2.5903, -3.6889, -2.5903, -3.6889, -2.9957, -3.6889, -3.6889, -1.6094, -3.6889, -3.6889, -3.6889, -3.6889, -3.6889, -3.6889, -3.6889, -3.6889, -3.6889, -3.6889, -3.6889, -3.6889, -3.6889, -3.6889, -3.6889, -3.6889, -3.6889, -3.6889, -3.6889, -Infinity, -Infinity, -Infinity, -Infinity, -3.434, -3.434, -2.7408, -3.434, -3.434, -3.434, -3.434, -2.7408, -3.434, -3.434, -3.434, -3.434, -3.434, -3.434, -2.3354, -1.8245, -3.434, -3.434, -3.434, -3.434, -3.434, -2.7408, -Infinity, -Infinity, -Infinity, -Infinity, -Infinity, -Infinity, -Infinity, -Infinity, -Infinity, -Infinity, -Infinity, -Infinity, -Infinity, -Infinity, -Infinity, -Infinity, -Infinity, -Infinity, -Infinity], \"loglift\": [30.0, 29.0, 28.0, 27.0, 26.0, 25.0, 24.0, 23.0, 22.0, 21.0, 20.0, 19.0, 18.0, 17.0, 16.0, 15.0, 14.0, 13.0, 12.0, 11.0, 10.0, 9.0, 8.0, 7.0, 6.0, 5.0, 4.0, 3.0, 2.0, 1.0, 1.3611, 1.3611, 1.3611, 1.3611, 1.3611, 1.3611, 1.3611, 1.3611, 1.3611, 1.3611, 1.3611, 1.3611, 1.3611, 1.3611, 1.3611, 1.3611, 1.3611, 1.3611, 1.3611, 1.3611, 1.3611, 1.3611, 1.3611, 1.3611, 1.3611, 1.3611, 1.3611, 1.3611, 1.3611, 0.8331, 0.3535, -0.1143, 0.6077, 0.3535, 0.4939, 1.375, 1.375, 1.375, 1.375, 1.375, 1.375, 1.375, 1.375, 1.375, 1.375, 1.375, 1.375, 1.375, 1.375, 1.375, 1.375, 1.375, 1.375, 1.375, 1.375, 1.375, 1.375, 1.375, 1.375, 1.375, 1.375, 1.1154, 0.7387, 0.4402, -0.2074, 1.393, 1.393, 1.393, 1.393, 1.393, 1.393, 1.393, 1.393, 1.393, 1.393, 1.393, 1.393, 1.393, 1.393, 1.393, 1.393, 1.393, 1.393, 1.393, 1.393, 1.393, 1.393, 1.393, 1.393, 1.393, 1.393, 0.8481, 0.5777, -Infinity, -Infinity, -Infinity, -Infinity, 1.4169, 1.4169, 1.4169, 1.4169, 1.4169, 1.4169, 1.4169, 1.4169, 1.4169, 1.4169, 1.4169, 1.4169, 1.4169, 1.4169, 1.4169, 1.1869, 0.9626, 0.9626, 0.9626, 0.9182, 0.8326, 0.5258, -Infinity, -Infinity, -Infinity, -Infinity, NaN, -Infinity, -Infinity, -Infinity, -Infinity, -Infinity, -Infinity, -Infinity, -Infinity, -Infinity, -Infinity, -Infinity, -Infinity, -Infinity, -Infinity]}, \"token.table\": {\"Topic\": [1, 2, 1, 1, 3, 3, 3, 4, 2, 2, 4, 2, 1, 3, 4, 4, 1, 4, 1, 3, 1, 1, 4, 2, 3, 4, 4, 1, 2, 1, 2, 4, 2, 3, 2, 4, 1, 4, 1, 2, 2, 3, 1, 3, 3, 1, 2, 1, 3, 4, 2, 1, 4, 1, 4, 1, 3, 3, 3, 2, 2, 1, 2, 4, 4, 3, 1, 2, 2, 4, 3, 1, 4, 3, 1, 1, 3, 2, 1, 1, 1, 4, 3, 2, 4, 1, 3, 2, 1, 2, 2, 1, 3, 1, 3, 2, 2, 2, 4, 3, 2, 2, 1, 3, 1, 3, 1, 1, 3, 2, 3, 3, 4, 1, 2, 1], \"Freq\": [0.22202713866547974, 0.6660814159964392, 0.9708338597521383, 0.9708338597521383, 0.7034202236164568, 0.7034202236164568, 0.7034202236164568, 1.1166333065368048, 0.8635798448264143, 0.8635798448264143, 1.1166333065368048, 0.8635798448264143, 0.9708338597521383, 0.3112623814724965, 0.622524762944993, 1.1166333065368048, 0.9708338597521383, 0.9305277554473373, 0.9708338597521383, 0.7034202236164568, 0.9708338597521383, 0.3544665530574742, 0.7089331061149484, 0.8635798448264143, 0.7034202236164568, 1.1166333065368048, 1.1166333065368048, 0.9708338597521383, 0.9715273254297161, 0.9708338597521383, 0.8635798448264143, 1.1166333065368048, 0.8635798448264143, 0.7034202236164568, 0.17743973601136484, 0.7984788120511418, 0.3544665530574742, 0.7089331061149484, 0.9708338597521383, 0.8635798448264143, 0.8635798448264143, 0.7034202236164568, 0.9708338597521383, 0.9672028074726282, 0.7034202236164568, 0.9708338597521383, 0.8635798448264143, 0.9708338597521383, 0.7034202236164568, 1.1166333065368048, 0.8635798448264143, 0.9708338597521383, 1.1166333065368048, 0.9708338597521383, 1.1166333065368048, 0.9708338597521383, 0.7034202236164568, 0.7034202236164568, 0.7034202236164568, 0.8635798448264143, 0.8635798448264144, 0.45703570130577326, 0.45703570130577326, 1.1166333065368048, 1.1166333065368048, 0.7034202236164568, 0.9708338597521383, 0.8635798448264143, 0.3390900880897862, 0.6781801761795724, 0.7034202236164568, 0.3544665530574742, 0.7089331061149484, 0.7034202236164568, 0.9708338597521383, 0.9708338597521383, 0.7034202236164568, 1.036295813791697, 0.9708338597521383, 0.9708338597521383, 0.5725797269966088, 0.458063781597287, 0.7034202236164568, 0.8635798448264143, 1.1166333065368048, 0.9708338597521383, 0.7034202236164568, 0.8635798448264143, 0.9708338597521383, 0.8635798448264143, 0.8635798448264143, 0.9708338597521383, 0.7034202236164568, 0.9708338597521383, 1.0551303354246853, 0.8635798448264143, 0.8635798448264144, 0.8635798448264143, 1.1166333065368048, 0.7034202236164568, 0.8635798448264143, 0.8635798448264143, 0.9708338597521383, 0.9378936314886093, 0.4078856235173549, 0.4078856235173549, 0.9708338597521383, 0.9708338597521383, 0.7034202236164568, 0.8635798448264143, 0.9378936314886093, 0.7034202236164568, 1.1166333065368048, 0.9708338597521383, 0.8635798448264143, 0.9708338597521383], \"Term\": [\"ability\", \"ability\", \"accept\", \"access\", \"adequate\", \"adopt\", \"audience\", \"block\", \"bug\", \"care\", \"choose\", \"clean\", \"close\", \"communicate\", \"communicate\", \"connection\", \"contact\", \"content\", \"control\", \"convenience\", \"culture\", \"day\", \"day\", \"default\", \"dominant\", \"downvote\", \"ease\", \"easily\", \"easy\", \"ememe\", \"end\", \"enjoy\", \"facebook\", \"fact\", \"family\", \"family\", \"feature\", \"feature\", \"feed\", \"filter\", \"find\", \"fix\", \"follow\", \"friend\", \"group\", \"hate\", \"heavily\", \"hobbie\", \"hobby\", \"honest\", \"hot\", \"idiot\", \"interest\", \"kind\", \"large\", \"late\", \"learn\", \"list\", \"literature\", \"live\", \"lot\", \"love\", \"love\", \"make\", \"medium\", \"meet\", \"minute\", \"money\", \"mute\", \"mute\", \"news\", \"option\", \"option\", \"page\", \"payment\", \"people\", \"photo\", \"picture\", \"platform\", \"popularity\", \"post\", \"post\", \"private\", \"profile\", \"real\", \"receive\", \"recent\", \"regularly\", \"repeatedly\", \"request\", \"respond\", \"run\", \"russian\", \"sauce\", \"send\", \"set\", \"share\", \"similar\", \"simplicity\", \"stand\", \"story\", \"suggest\", \"thing\", \"time\", \"touch\", \"touch\", \"unfollow\", \"update\", \"upvote\", \"useless\", \"video\", \"view\", \"voice\", \"watch\", \"weird\", \"youtube\"]}, \"R\": 30, \"lambda.step\": 0.01, \"plot.opts\": {\"xlab\": \"PC1\", \"ylab\": \"PC2\"}, \"topic.order\": [1, 3, 2, 4]};\n",
       "\n",
       "function LDAvis_load_lib(url, callback){\n",
       "  var s = document.createElement('script');\n",
       "  s.src = url;\n",
       "  s.async = true;\n",
       "  s.onreadystatechange = s.onload = callback;\n",
       "  s.onerror = function(){console.warn(\"failed to load library \" + url);};\n",
       "  document.getElementsByTagName(\"head\")[0].appendChild(s);\n",
       "}\n",
       "\n",
       "if(typeof(LDAvis) !== \"undefined\"){\n",
       "   // already loaded: just create the visualization\n",
       "   !function(LDAvis){\n",
       "       new LDAvis(\"#\" + \"ldavis_el836415124463710164802468416\", ldavis_el836415124463710164802468416_data);\n",
       "   }(LDAvis);\n",
       "}else if(typeof define === \"function\" && define.amd){\n",
       "   // require.js is available: use it to load d3/LDAvis\n",
       "   require.config({paths: {d3: \"https://cdnjs.cloudflare.com/ajax/libs/d3/3.5.5/d3.min\"}});\n",
       "   require([\"d3\"], function(d3){\n",
       "      window.d3 = d3;\n",
       "      LDAvis_load_lib(\"https://cdn.rawgit.com/bmabey/pyLDAvis/files/ldavis.v1.0.0.js\", function(){\n",
       "        new LDAvis(\"#\" + \"ldavis_el836415124463710164802468416\", ldavis_el836415124463710164802468416_data);\n",
       "      });\n",
       "    });\n",
       "}else{\n",
       "    // require.js not available: dynamically load d3 & LDAvis\n",
       "    LDAvis_load_lib(\"https://cdnjs.cloudflare.com/ajax/libs/d3/3.5.5/d3.min.js\", function(){\n",
       "         LDAvis_load_lib(\"https://cdn.rawgit.com/bmabey/pyLDAvis/files/ldavis.v1.0.0.js\", function(){\n",
       "                 new LDAvis(\"#\" + \"ldavis_el836415124463710164802468416\", ldavis_el836415124463710164802468416_data);\n",
       "            })\n",
       "         });\n",
       "}\n",
       "</script>"
      ],
      "text/plain": [
       "PreparedData(topic_coordinates=              x         y  topics  cluster       Freq\n",
       "topic                                                \n",
       "0     -0.122327 -0.280318       1        1  25.638609\n",
       "2     -0.161635  0.361736       2        1  25.283199\n",
       "1      0.432909  0.020712       3        1  24.831883\n",
       "3     -0.148947 -0.102130       4        1  24.246309, topic_info=        Term  Freq      Total Category  logprob  loglift\n",
       "59    friend  11.0  11.000000  Default     30.0     30.0\n",
       "3     people  10.0  10.000000  Default     29.0     29.0\n",
       "1       easy   9.0   9.000000  Default     28.0     28.0\n",
       "58    family  11.0  11.000000  Default     27.0     27.0\n",
       "29   picture   5.0   5.000000  Default     26.0     26.0\n",
       "..       ...   ...        ...      ...      ...      ...\n",
       "36     money   0.0   1.157971   Topic4     -inf     -inf\n",
       "39   receive   0.0   1.030042   Topic4     -inf     -inf\n",
       "38   payment   0.0   1.030042   Topic4     -inf     -inf\n",
       "45     idiot   0.0   1.030042   Topic4     -inf     -inf\n",
       "48  unfollow   0.0   1.030042   Topic4     -inf     -inf\n",
       "\n",
       "[168 rows x 6 columns], token_table=      Topic      Freq      Term\n",
       "term                           \n",
       "30        1  0.222027   ability\n",
       "30        2  0.666081   ability\n",
       "81        1  0.970834    accept\n",
       "5         1  0.970834    access\n",
       "42        3  0.703420  adequate\n",
       "...     ...       ...       ...\n",
       "70        3  0.703420      view\n",
       "41        4  1.116633     voice\n",
       "128       1  0.970834     watch\n",
       "120       2  0.863580     weird\n",
       "129       1  0.970834   youtube\n",
       "\n",
       "[116 rows x 3 columns], R=30, lambda_step=0.01, plot_opts={'xlab': 'PC1', 'ylab': 'PC2'}, topic_order=[1, 3, 2, 4])"
      ]
     },
     "execution_count": 28,
     "metadata": {},
     "output_type": "execute_result"
    }
   ],
   "source": [
    "model = gensim.models.wrappers.ldamallet.malletmodel2ldamodel(optimal_model)\n",
    "\n",
    "pyLDAvis.enable_notebook()\n",
    "vis = pyLDAvis.gensim.prepare(model, corpus, id2word)\n",
    "vis"
   ]
  },
  {
   "cell_type": "code",
   "execution_count": 65,
   "metadata": {},
   "outputs": [
    {
     "data": {
      "text/html": [
       "<div>\n",
       "<style scoped>\n",
       "    .dataframe tbody tr th:only-of-type {\n",
       "        vertical-align: middle;\n",
       "    }\n",
       "\n",
       "    .dataframe tbody tr th {\n",
       "        vertical-align: top;\n",
       "    }\n",
       "\n",
       "    .dataframe thead th {\n",
       "        text-align: right;\n",
       "    }\n",
       "</style>\n",
       "<table border=\"1\" class=\"dataframe\">\n",
       "  <thead>\n",
       "    <tr style=\"text-align: right;\">\n",
       "      <th></th>\n",
       "      <th>Document_No</th>\n",
       "      <th>Dominant_Topic</th>\n",
       "      <th>Topic_Perc_Contrib</th>\n",
       "      <th>Keywords</th>\n",
       "      <th>Text</th>\n",
       "    </tr>\n",
       "  </thead>\n",
       "  <tbody>\n",
       "    <tr>\n",
       "      <th>0</th>\n",
       "      <td>0</td>\n",
       "      <td>2.0</td>\n",
       "      <td>0.2685</td>\n",
       "      <td>easy, picture, lot, ability, share, live, weir...</td>\n",
       "      <td>It's easy to use and very heavily adopted by o...</td>\n",
       "    </tr>\n",
       "    <tr>\n",
       "      <th>1</th>\n",
       "      <td>1</td>\n",
       "      <td>0.0</td>\n",
       "      <td>0.2715</td>\n",
       "      <td>people, easily, post, control, access, update,...</td>\n",
       "      <td>Easy access is just about the only thing.</td>\n",
       "    </tr>\n",
       "    <tr>\n",
       "      <th>2</th>\n",
       "      <td>2</td>\n",
       "      <td>0.0</td>\n",
       "      <td>0.2719</td>\n",
       "      <td>people, easily, post, control, access, update,...</td>\n",
       "      <td>youtube makes it really easy to see what kind ...</td>\n",
       "    </tr>\n",
       "    <tr>\n",
       "      <th>3</th>\n",
       "      <td>3</td>\n",
       "      <td>0.0</td>\n",
       "      <td>0.2636</td>\n",
       "      <td>people, easily, post, control, access, update,...</td>\n",
       "      <td>Being able to mute/block people. It helps keep...</td>\n",
       "    </tr>\n",
       "    <tr>\n",
       "      <th>4</th>\n",
       "      <td>4</td>\n",
       "      <td>2.0</td>\n",
       "      <td>0.2596</td>\n",
       "      <td>easy, picture, lot, ability, share, live, weir...</td>\n",
       "      <td>Being able to share content</td>\n",
       "    </tr>\n",
       "  </tbody>\n",
       "</table>\n",
       "</div>"
      ],
      "text/plain": [
       "   Document_No  Dominant_Topic  Topic_Perc_Contrib  \\\n",
       "0            0             2.0              0.2685   \n",
       "1            1             0.0              0.2715   \n",
       "2            2             0.0              0.2719   \n",
       "3            3             0.0              0.2636   \n",
       "4            4             2.0              0.2596   \n",
       "\n",
       "                                            Keywords  \\\n",
       "0  easy, picture, lot, ability, share, live, weir...   \n",
       "1  people, easily, post, control, access, update,...   \n",
       "2  people, easily, post, control, access, update,...   \n",
       "3  people, easily, post, control, access, update,...   \n",
       "4  easy, picture, lot, ability, share, live, weir...   \n",
       "\n",
       "                                                Text  \n",
       "0  It's easy to use and very heavily adopted by o...  \n",
       "1          Easy access is just about the only thing.  \n",
       "2  youtube makes it really easy to see what kind ...  \n",
       "3  Being able to mute/block people. It helps keep...  \n",
       "4                        Being able to share content  "
      ]
     },
     "execution_count": 65,
     "metadata": {},
     "output_type": "execute_result"
    }
   ],
   "source": [
    "def format_topics_sentences(ldamodel=lda_model, corpus=corpus, texts=data):\n",
    "    # Init output\n",
    "    sent_topics_df = pd.DataFrame()\n",
    "\n",
    "    # Get main topic in each document\n",
    "    for i, row in enumerate(ldamodel[corpus]):\n",
    "        row = sorted(row, key=lambda x: (x[1]), reverse=True)\n",
    "        # Get the Dominant topic, Perc Contribution and Keywords for each document\n",
    "        for j, (topic_num, prop_topic) in enumerate(row):\n",
    "            if j == 0:  # => dominant topic\n",
    "                wp = ldamodel.show_topic(topic_num)\n",
    "                topic_keywords = \", \".join([word for word, prop in wp])\n",
    "                sent_topics_df = sent_topics_df.append(pd.Series([int(topic_num), round(prop_topic,4), topic_keywords]), ignore_index=True)\n",
    "            else:\n",
    "                break\n",
    "    sent_topics_df.columns = ['Dominant_Topic', 'Perc_Contribution', 'Topic_Keywords']\n",
    "\n",
    "    # Add original text to the end of the output\n",
    "    contents = pd.Series(texts)\n",
    "    sent_topics_df = pd.concat([sent_topics_df, contents], axis=1)\n",
    "    return(sent_topics_df)\n",
    "\n",
    "\n",
    "df_topic_sents_keywords = format_topics_sentences(ldamodel=optimal_model, corpus=corpus, texts=data)\n",
    "\n",
    "# Format\n",
    "df_dominant_topic = df_topic_sents_keywords.reset_index()\n",
    "df_dominant_topic.columns = ['Document_No', 'Dominant_Topic', 'Topic_Perc_Contrib', 'Keywords', 'Text']\n",
    "\n",
    "# Show\n",
    "df_dominant_topic.head()"
   ]
  },
  {
   "cell_type": "code",
   "execution_count": 66,
   "metadata": {},
   "outputs": [],
   "source": [
    "df_dominant_topic['topic_id'] = df_dominant_topic['Dominant_Topic']"
   ]
  },
  {
   "cell_type": "code",
   "execution_count": 68,
   "metadata": {},
   "outputs": [],
   "source": [
    "df_dominant_topic['topic_id'] = df_dominant_topic['topic_id'].replace([0.0], 'Easy to Access')\n",
    "df_dominant_topic['topic_id'] = df_dominant_topic['topic_id'].replace([1.0], 'Ease of Connectivity')\n",
    "df_dominant_topic['topic_id'] = df_dominant_topic['topic_id'].replace([2.0], 'Easy To Use')\n",
    "df_dominant_topic['topic_id'] = df_dominant_topic['topic_id'].replace([3.0], 'Show Relevant Contents')\n",
    "# df_dominant_topic['Dominant_Topic'] = df_dominant_topic['Dominant_Topic'].replace([3.0], 'Easy to Access')\n",
    "# df_dominant_topic['Dominant_Topic'] = df_dominant_topic['Dominant_Topic'].replace([3.0], 'Experimental Medicine')"
   ]
  },
  {
   "cell_type": "code",
   "execution_count": 69,
   "metadata": {},
   "outputs": [
    {
     "data": {
      "text/html": [
       "<div>\n",
       "<style scoped>\n",
       "    .dataframe tbody tr th:only-of-type {\n",
       "        vertical-align: middle;\n",
       "    }\n",
       "\n",
       "    .dataframe tbody tr th {\n",
       "        vertical-align: top;\n",
       "    }\n",
       "\n",
       "    .dataframe thead th {\n",
       "        text-align: right;\n",
       "    }\n",
       "</style>\n",
       "<table border=\"1\" class=\"dataframe\">\n",
       "  <thead>\n",
       "    <tr style=\"text-align: right;\">\n",
       "      <th></th>\n",
       "      <th>Document_No</th>\n",
       "      <th>Dominant_Topic</th>\n",
       "      <th>Topic_Perc_Contrib</th>\n",
       "      <th>Keywords</th>\n",
       "      <th>Text</th>\n",
       "      <th>topic_id</th>\n",
       "    </tr>\n",
       "  </thead>\n",
       "  <tbody>\n",
       "    <tr>\n",
       "      <th>0</th>\n",
       "      <td>0</td>\n",
       "      <td>2.0</td>\n",
       "      <td>0.2685</td>\n",
       "      <td>easy, picture, lot, ability, share, live, weir...</td>\n",
       "      <td>It's easy to use and very heavily adopted by o...</td>\n",
       "      <td>Easy To Use</td>\n",
       "    </tr>\n",
       "    <tr>\n",
       "      <th>1</th>\n",
       "      <td>1</td>\n",
       "      <td>0.0</td>\n",
       "      <td>0.2715</td>\n",
       "      <td>people, easily, post, control, access, update,...</td>\n",
       "      <td>Easy access is just about the only thing.</td>\n",
       "      <td>Easy to Access</td>\n",
       "    </tr>\n",
       "    <tr>\n",
       "      <th>2</th>\n",
       "      <td>2</td>\n",
       "      <td>0.0</td>\n",
       "      <td>0.2719</td>\n",
       "      <td>people, easily, post, control, access, update,...</td>\n",
       "      <td>youtube makes it really easy to see what kind ...</td>\n",
       "      <td>Easy to Access</td>\n",
       "    </tr>\n",
       "    <tr>\n",
       "      <th>3</th>\n",
       "      <td>3</td>\n",
       "      <td>0.0</td>\n",
       "      <td>0.2636</td>\n",
       "      <td>people, easily, post, control, access, update,...</td>\n",
       "      <td>Being able to mute/block people. It helps keep...</td>\n",
       "      <td>Easy to Access</td>\n",
       "    </tr>\n",
       "    <tr>\n",
       "      <th>4</th>\n",
       "      <td>4</td>\n",
       "      <td>2.0</td>\n",
       "      <td>0.2596</td>\n",
       "      <td>easy, picture, lot, ability, share, live, weir...</td>\n",
       "      <td>Being able to share content</td>\n",
       "      <td>Easy To Use</td>\n",
       "    </tr>\n",
       "  </tbody>\n",
       "</table>\n",
       "</div>"
      ],
      "text/plain": [
       "   Document_No  Dominant_Topic  Topic_Perc_Contrib  \\\n",
       "0            0             2.0              0.2685   \n",
       "1            1             0.0              0.2715   \n",
       "2            2             0.0              0.2719   \n",
       "3            3             0.0              0.2636   \n",
       "4            4             2.0              0.2596   \n",
       "\n",
       "                                            Keywords  \\\n",
       "0  easy, picture, lot, ability, share, live, weir...   \n",
       "1  people, easily, post, control, access, update,...   \n",
       "2  people, easily, post, control, access, update,...   \n",
       "3  people, easily, post, control, access, update,...   \n",
       "4  easy, picture, lot, ability, share, live, weir...   \n",
       "\n",
       "                                                Text        topic_id  \n",
       "0  It's easy to use and very heavily adopted by o...     Easy To Use  \n",
       "1          Easy access is just about the only thing.  Easy to Access  \n",
       "2  youtube makes it really easy to see what kind ...  Easy to Access  \n",
       "3  Being able to mute/block people. It helps keep...  Easy to Access  \n",
       "4                        Being able to share content     Easy To Use  "
      ]
     },
     "execution_count": 69,
     "metadata": {},
     "output_type": "execute_result"
    }
   ],
   "source": [
    "df_dominant_topic.head()"
   ]
  },
  {
   "cell_type": "code",
   "execution_count": 70,
   "metadata": {},
   "outputs": [],
   "source": [
    "df_dominant_topic.to_csv(url + 'thoughts_topics.csv', index=False, header=True)"
   ]
  },
  {
   "cell_type": "code",
   "execution_count": null,
   "metadata": {},
   "outputs": [],
   "source": []
  }
 ],
 "metadata": {
  "kernelspec": {
   "display_name": "capstone",
   "language": "python",
   "name": "capstone"
  },
  "language_info": {
   "codemirror_mode": {
    "name": "ipython",
    "version": 3
   },
   "file_extension": ".py",
   "mimetype": "text/x-python",
   "name": "python",
   "nbconvert_exporter": "python",
   "pygments_lexer": "ipython3",
   "version": "3.7.8"
  }
 },
 "nbformat": 4,
 "nbformat_minor": 4
}
